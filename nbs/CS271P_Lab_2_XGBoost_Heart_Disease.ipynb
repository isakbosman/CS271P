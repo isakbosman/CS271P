{
  "cells": [
    {
      "cell_type": "markdown",
      "metadata": {
        "id": "Mbqd4YjtSeaB"
      },
      "source": [
        "#Heart disease classification - UCI"
      ]
    },
    {
      "cell_type": "markdown",
      "metadata": {
        "id": "a821rpFRI2bA"
      },
      "source": [
        "Run this if you are using this in Google Colab"
      ]
    },
    {
      "cell_type": "code",
      "execution_count": null,
      "metadata": {
        "colab": {
          "base_uri": "https://localhost:8080/"
        },
        "id": "UrJAkADBI0cI",
        "outputId": "b4ccd757-c0ee-44ff-86cb-a8130b517c60"
      },
      "outputs": [],
      "source": [
        "from google.colab import drive\n",
        "drive.mount('/content/gdrive')"
      ]
    },
    {
      "cell_type": "code",
      "execution_count": null,
      "metadata": {
        "colab": {
          "base_uri": "https://localhost:8080/"
        },
        "id": "YFrSFa_fbCY8",
        "outputId": "4b5ea9bd-b419-4839-b76e-ef7442e7af97"
      },
      "outputs": [],
      "source": [
        "!ls"
      ]
    },
    {
      "cell_type": "markdown",
      "metadata": {
        "id": "CgOeloJAJC_B"
      },
      "source": [
        "Change directory to the project path"
      ]
    },
    {
      "cell_type": "code",
      "execution_count": null,
      "metadata": {
        "colab": {
          "base_uri": "https://localhost:8080/"
        },
        "id": "Eq3kgbZdJlzD",
        "outputId": "000c3755-8767-492d-9ddc-d0c58940cf4a"
      },
      "outputs": [],
      "source": [
        "%cd gdrive/My Drive/cs271p"
      ]
    },
    {
      "cell_type": "markdown",
      "metadata": {
        "id": "ZUGC7WzhJoPw"
      },
      "source": [
        "Install dependencies"
      ]
    },
    {
      "cell_type": "code",
      "execution_count": null,
      "metadata": {
        "id": "ZKM1ilbMIoIJ"
      },
      "outputs": [],
      "source": [
        "import numpy as np\n",
        "import pandas as pd\n",
        "import math\n",
        "from pprint import pprint\n",
        "from tqdm.notebook import tqdm\n",
        "import xgboost as xgb\n",
        "from matplotlib import pyplot\n",
        "from sklearn.model_selection import train_test_split\n",
        "from sklearn.preprocessing import MinMaxScaler\n",
        "from sklearn.metrics import accuracy_score\n",
        "from sklearn.metrics import mean_squared_error\n",
        "from xgboost import plot_importance\n",
        "sc = MinMaxScaler((-1, 1))"
      ]
    },
    {
      "cell_type": "code",
      "execution_count": null,
      "metadata": {
        "id": "LyAHrAbwIoIO"
      },
      "outputs": [],
      "source": [
        "df = pd.read_csv('./heart.csv')"
      ]
    },
    {
      "cell_type": "code",
      "execution_count": null,
      "metadata": {
        "colab": {
          "base_uri": "https://localhost:8080/",
          "height": 669
        },
        "id": "72wICQwbIoIR",
        "outputId": "65fec52f-932e-4f59-84d0-172867e9df3f"
      },
      "outputs": [],
      "source": [
        "df.head(20)"
      ]
    },
    {
      "cell_type": "markdown",
      "metadata": {
        "id": "2dEXoOGqLML7"
      },
      "source": [
        "| Column | Description   |\n",
        "|--------|---------------|\n",
        "|   age       | Age in years  |\n",
        "|   sex       | (1 = male; 0 = female)  |\n",
        "|   cp        | chest pain type  |\n",
        "|   trestbps  | resting blood pressure (in mm Hg on admission to the hospital) |\n",
        "|   chol      | serum cholestoral in mg/dl  |\n",
        "|   fbs       | (fasting blood sugar > 120 mg/dl) (1 = true; 0 = false) |\n",
        "|   restecg   | resting electrocardiographic results  |\n",
        "|   thalach   | maximum heart rate achieved  |\n",
        "|   exang     | exercise induced angina (1 = yes; 0 = no)  |\n",
        "|   oldpeak   | ST depression induced by exercise relative to rest  |\n",
        "|   slope     | the slope of the peak exercise ST segment  |\n",
        "|   ca        | number of major vessels (0-3) colored by flourosopy  |\n",
        "|   thal      | 3 = normal; 6 = fixed defect; 7 = reversable defect |\n",
        "|   target    | 1 = heart disease; 0 = no heart disease |\n"
      ]
    },
    {
      "cell_type": "markdown",
      "metadata": {
        "id": "8Y16CkQXK6vN"
      },
      "source": [
        "# Lets look at the data"
      ]
    },
    {
      "cell_type": "code",
      "execution_count": null,
      "metadata": {
        "colab": {
          "base_uri": "https://localhost:8080/"
        },
        "id": "0lkRCjyVIoIt",
        "outputId": "a061b081-25f0-4d95-b978-b1620a281998"
      },
      "outputs": [],
      "source": [
        "df.info()"
      ]
    },
    {
      "cell_type": "code",
      "execution_count": null,
      "metadata": {
        "colab": {
          "base_uri": "https://localhost:8080/"
        },
        "id": "C2F-CGcYK_AE",
        "outputId": "f2a4b63e-2202-452c-e8f7-c582b6ac8061"
      },
      "outputs": [],
      "source": [
        "df.isnull().sum()"
      ]
    },
    {
      "cell_type": "code",
      "execution_count": null,
      "metadata": {
        "colab": {
          "base_uri": "https://localhost:8080/",
          "height": 317
        },
        "id": "x75It3gxNdtc",
        "outputId": "8a45f78d-982c-4da9-b458-e5f599bc3acc"
      },
      "outputs": [],
      "source": [
        "df.describe()"
      ]
    },
    {
      "cell_type": "code",
      "execution_count": null,
      "metadata": {
        "id": "y5AoLmQNLE56"
      },
      "outputs": [],
      "source": [
        "import seaborn as sns\n",
        "import matplotlib.pyplot as plt"
      ]
    },
    {
      "cell_type": "markdown",
      "metadata": {
        "id": "DjmqXn_rkgHP"
      },
      "source": [
        "Lets use the pairplot too to represent the univariate distribution"
      ]
    },
    {
      "cell_type": "code",
      "execution_count": null,
      "metadata": {
        "colab": {
          "base_uri": "https://localhost:8080/",
          "height": 1000
        },
        "id": "3s9N82R2SIZt",
        "outputId": "de3387c1-c58d-4fa5-84fb-efb455845c81"
      },
      "outputs": [],
      "source": [
        "sns.pairplot(df)"
      ]
    },
    {
      "cell_type": "code",
      "execution_count": null,
      "metadata": {
        "colab": {
          "base_uri": "https://localhost:8080/",
          "height": 392
        },
        "id": "S0hw-93iSIsS",
        "outputId": "6993fb89-44e3-4ecb-b257-e26d97f6ab61"
      },
      "outputs": [],
      "source": [
        "sns.pairplot(df[['chol', 'age']])"
      ]
    },
    {
      "cell_type": "code",
      "execution_count": null,
      "metadata": {
        "colab": {
          "base_uri": "https://localhost:8080/",
          "height": 518
        },
        "id": "kG9ASG2rSIu5",
        "outputId": "c8a86832-0678-4f21-b7e0-d965805a6960"
      },
      "outputs": [],
      "source": [
        "f,ax=plt.subplots(figsize=(8,8))\n",
        "sns.heatmap(df.corr(),annot=True,linewidth=.5,fmt='.1f',ax=ax)\n",
        "plt.show()"
      ]
    },
    {
      "cell_type": "code",
      "execution_count": null,
      "metadata": {
        "colab": {
          "base_uri": "https://localhost:8080/",
          "height": 268
        },
        "id": "n2UwdzGdSIxw",
        "outputId": "2cbe4a71-a7e5-4aa1-fa93-c552660b82c9"
      },
      "outputs": [],
      "source": [
        "sns.violinplot(data=df[['age', 'thalach']], inner=\"points\")\n",
        "plt.show()"
      ]
    },
    {
      "cell_type": "code",
      "execution_count": null,
      "metadata": {
        "colab": {
          "base_uri": "https://localhost:8080/",
          "height": 339
        },
        "id": "l5ftqEiISI3G",
        "outputId": "4c15f36d-944f-47d9-88d3-08bd1b530b96"
      },
      "outputs": [],
      "source": [
        "sns.distplot(df[['thalach']],kde = True)"
      ]
    },
    {
      "cell_type": "code",
      "execution_count": null,
      "metadata": {
        "colab": {
          "base_uri": "https://localhost:8080/",
          "height": 279
        },
        "id": "7cC0kElAo0dW",
        "outputId": "bbe67633-09c8-4119-afd3-d0c3cb4a9e18"
      },
      "outputs": [],
      "source": [
        "sns.violinplot(x='sex', y='chol', data=df[df.target==1], inner=\"points\")\n",
        "plt.show()"
      ]
    },
    {
      "cell_type": "markdown",
      "metadata": {
        "id": "vVTttQ6HR5gu"
      },
      "source": [
        "# Lets start Boosting!"
      ]
    },
    {
      "cell_type": "code",
      "execution_count": null,
      "metadata": {
        "id": "-E4xxRGJIoIX"
      },
      "outputs": [],
      "source": [
        "df.shape\n",
        "y = df['target']\n",
        "X = df.drop('target', axis=1)"
      ]
    },
    {
      "cell_type": "code",
      "execution_count": null,
      "metadata": {
        "id": "gsoYZNJ7IoIb"
      },
      "outputs": [],
      "source": [
        "X_train, X_test, y_train, y_test = train_test_split(X, y, test_size=0.10)"
      ]
    },
    {
      "cell_type": "code",
      "execution_count": null,
      "metadata": {
        "id": "E08UIY-qIoId"
      },
      "outputs": [],
      "source": [
        "xg_class = xgb.XGBClassifier(objective='binary:hinge', colsample_bytree = 0.3, learning_rate = 0.9,\n",
        "                max_depth = 5, alpha = 10, n_estimators = 20)"
      ]
    },
    {
      "cell_type": "code",
      "execution_count": null,
      "metadata": {
        "colab": {
          "base_uri": "https://localhost:8080/"
        },
        "id": "6yW7kVPhIoIf",
        "outputId": "68f36606-d5c3-4cd7-faff-1e38fa963d4e"
      },
      "outputs": [],
      "source": [
        "xg_class.fit(X_train, y_train)"
      ]
    },
    {
      "cell_type": "code",
      "execution_count": null,
      "metadata": {
        "id": "S8tQPGnRIoIi"
      },
      "outputs": [],
      "source": [
        "preds = xg_class.predict(X_test)"
      ]
    },
    {
      "cell_type": "code",
      "execution_count": null,
      "metadata": {
        "colab": {
          "base_uri": "https://localhost:8080/"
        },
        "id": "HyCSR2QaIoIk",
        "outputId": "35e9c798-ab00-48ab-b92d-4061e84eb82e"
      },
      "outputs": [],
      "source": [
        "accuracy = accuracy_score(y_test, preds)\n",
        "print(\"Accuracy: %.2f%%\" % (accuracy * 100.0))"
      ]
    },
    {
      "cell_type": "code",
      "execution_count": null,
      "metadata": {
        "colab": {
          "base_uri": "https://localhost:8080/",
          "height": 295
        },
        "id": "_QB70Iv5IoIn",
        "outputId": "d8ce576b-f776-41f6-c31d-786b708a320f"
      },
      "outputs": [],
      "source": [
        "plot_importance(xg_class)\n",
        "pyplot.show()"
      ]
    },
    {
      "cell_type": "markdown",
      "metadata": {
        "id": "wr1x4NZHN24T"
      },
      "source": [
        "# Excercises"
      ]
    },
    {
      "cell_type": "markdown",
      "metadata": {
        "id": "yjjeddp4N-D0"
      },
      "source": [
        "1. Parse the other 4 files for Heart Disease\n",
        "2. What other conclusions can you make about the data and why\n",
        "3. Can you generate more features that would contribute to the overall accuracy"
      ]
    },
    {
      "cell_type": "code",
      "execution_count": null,
      "metadata": {
        "id": "esG6BBL_N8up"
      },
      "outputs": [],
      "source": []
    }
  ],
  "metadata": {
    "colab": {
      "collapsed_sections": [],
      "name": "Heart_Disease.ipynb",
      "provenance": []
    },
    "kernelspec": {
      "display_name": "Python 3",
      "language": "python",
      "name": "python3"
    },
    "language_info": {
      "codemirror_mode": {
        "name": "ipython",
        "version": 3
      },
      "file_extension": ".py",
      "mimetype": "text/x-python",
      "name": "python",
      "nbconvert_exporter": "python",
      "pygments_lexer": "ipython3",
      "version": "3.7.5"
    }
  },
  "nbformat": 4,
  "nbformat_minor": 0
}
