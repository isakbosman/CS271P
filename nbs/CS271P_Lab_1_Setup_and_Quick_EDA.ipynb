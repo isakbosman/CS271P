{
  "nbformat": 4,
  "nbformat_minor": 0,
  "metadata": {
    "colab": {
      "name": "CS271P - Lab 1 - Setup and Quick EDA.ipynb",
      "private_outputs": true,
      "provenance": [],
      "collapsed_sections": []
    },
    "kernelspec": {
      "name": "python3",
      "display_name": "Python 3"
    },
    "language_info": {
      "name": "python"
    }
  },
  "cells": [
    {
      "cell_type": "markdown",
      "metadata": {
        "id": "uQJ6xfn_HlSP"
      },
      "source": [
        "# CS271P - Lab #1 - Lets get collabing"
      ]
    },
    {
      "cell_type": "code",
      "metadata": {
        "id": "yKE-jNq7HTS7"
      },
      "source": [
        "!pip install torch matplotlib sklearn scipy sklearn pandas numpy"
      ],
      "execution_count": null,
      "outputs": []
    },
    {
      "cell_type": "markdown",
      "metadata": {
        "id": "u1WyjJPqHfj3"
      },
      "source": [
        "## Lets setup dependencies"
      ]
    },
    {
      "cell_type": "code",
      "metadata": {
        "id": "8m8AytE6HhE7"
      },
      "source": [
        "from google.colab import drive\n",
        "drive.mount('/content/gdrive')"
      ],
      "execution_count": null,
      "outputs": []
    },
    {
      "cell_type": "code",
      "metadata": {
        "id": "NT4VABuMITpb"
      },
      "source": [
        "#! mkdir -p cs271p"
      ],
      "execution_count": null,
      "outputs": []
    },
    {
      "cell_type": "code",
      "metadata": {
        "id": "vzLOy4ZLIX5B"
      },
      "source": [
        "%cd /content/gdrive/MyDrive/cs271p"
      ],
      "execution_count": null,
      "outputs": []
    },
    {
      "cell_type": "code",
      "metadata": {
        "id": "5hbAwngX_hms"
      },
      "source": [
        "!ls data"
      ],
      "execution_count": null,
      "outputs": []
    },
    {
      "cell_type": "markdown",
      "metadata": {
        "id": "nnSSGOlvdH0Q"
      },
      "source": [
        "------------------------------------------------------------------------------------------------------------------------------------- \n",
        "\n",
        "If FIW is used or found useful please cite related, https://web.northeastern.edu/smilelab/fiw/publications.html \n",
        "------------------------------------------------------------------------------------------------------------------------------------- \n",
        "\n",
        "6 July 2020 (v 0.2.0) \n",
        "\n",
        "RFIW 2020 (https://web.northeastern.edu/smilelab/rfiw2020/), held as an IEEE FG Challenge, is made up of 3 tasks. Specifically, kinship verification (T-1), Tri-Subject Verification (T-2), and Search & Retrieval (T-3). For this, Family IDs are split into 3 sets (i.e., train, val, and test). Train and val were provided for development purposes, while the test was reserved for \"blind\" evaluation. Now, data and labels are provided for each. As reported in the white paper (downloadable via https://arxiv.org/abs/2002.06303 or https://www.computer.org/csdl/proceedings-article/fg/2020/307900a877/1kecJ3M0dZC), the test set is used to report the final performance. Thus, both train and validation are designated for training the final models deployed for evaluating the test set.  \n",
        "\n",
        "Here we provide downloadable links for each task, along with links to learn more about the tasks (i.e., as reported in white paper pointed to above): \n",
        "\n",
        "==================== \n",
        "Kinship Verification (T-1) \n",
        "==================== \n",
        "Original Codalab portal, https://competitions.codalab.org/competitions/21843 \n",
        "\n",
        "TRAIN :\n",
        "   - Images: https://www.dropbox.com/s/k7uest3kzfqfejd/train-faces.zip?dl=0\n",
        "   - Pair List (CSV):  https://www.dropbox.com/s/b6sak9ztgqpjalm/train-pairs.csv?dl=0   \n",
        "\n",
        "VALIDATION: \n",
        "   - Images: https://www.dropbox.com/s/vnplu700aj6myj2/val-faces.zip?dl=0 \n",
        "   - Pair List (CSV): https://1drv.ms/u/s!AkDk_XdBkJ9wgocNDTeTlxm_gMyr_w?e=EJC5Ow \n",
        "\n",
        "==================== \n",
        "Tri-subject Verification (T-2) \n",
        "==================== \n",
        "Original Codalab portal, https://competitions.codalab.org/competitions/22117 \n",
        "\n",
        "TRAIN\n",
        "   - Images: https://1drv.ms/u/s!AkDk_XdBkJ9whucTlnSpGRK0PERUmQ?e=t46GLs \n",
        "   - Triplet list (CSV), https://1drv.ms/u/s!AkDk_XdBkJ9whucPNNCLTLdVASCpmQ?e=TJrWdb \n",
        "\n",
        "VAL \n",
        "   - Images: https://1drv.ms/u/s!AkDk_XdBkJ9whucUb_esMg9C74-lGw?e=1em9Qv \n",
        "   - Triplet List (CSV): https://1drv.ms/u/s!AkDk_XdBkJ9whucS8n6_PNSyZuQclA?e=LzcK5h \n",
        "\n",
        "\n",
        "TEST \n",
        "   - Images: https://www.dropbox.com/sh/fnkyhmh6hsv9dur/AADfrejH6lnpblB6XjlS5au2a?dl=0 \n",
        "   - Triplet List (CSV): https://1drv.ms/u/s!AkDk_XdBkJ9wh5BKGCXNuF1kRd3gNw?e=36c1eu \n",
        "\n",
        "\n",
        "==================== \n",
        "Search and Retrieval (T-3) \n",
        "==================== \n",
        "Original Codalab portal, https://competitions.codalab.org/competitions/22152 \n",
        "\n",
        "    --- README (MARKDOWN), https://1drv.ms/u/s!AkDk_XdBkJ9wgat1WAl87XfYbMwDqg?e=rJbop9  \n",
        "\n",
        "*TRAIN \n",
        "   -- Face Data, https://1drv.ms/u/s!AkDk_XdBkJ9wgatyw-PBj1RCh3x9yQ?e=ufdqkm  \n",
        "   --- Triplet list (CSV),  \n",
        "\n",
        "*VAL \n",
        "   --- Face Data, https://1drv.ms/u/s!AkDk_XdBkJ9wgbklQJ85kYZEHcMPPQ?e=hkNgLp (Probes) and https://1drv.ms/u/s!AkDk_XdBkJ9wgbkkA1QMlrxpZuZj1Q?e=ILUSIb (Gallery) \n",
        "   --- Probes Labeled (CSV), https://1drv.ms/x/s!AkDk_XdBkJ9wgdp223FQO1FMAViTCA?e=6gmyC2 (Probes, unlabled) https://1drv.ms/u/s!AkDk_XdBkJ9wgdFPn8YdEFfhC_65yw?e=3FoHzF (Gallery) \n",
        "   --- List Unlabeled (CSV), https://1drv.ms/u/s!AkDk_XdBkJ9wgbklQJ85kYZEHcMPPQ?e=hkNgLp (Probes) and https://1drv.ms/u/s!AkDk_XdBkJ9wgbkkA1QMlrxpZuZj1Q?e=ILUSIb (Gallery) \n",
        "   --- Probes Labeled (CSV), https://1drv.ms/x/s!AkDk_XdBkJ9whucS8n6_PNSyZuQclA?e=T2H9i6  \n",
        "\n",
        "*TEST \n",
        "    --- Face Data, https://1drv.ms/u/s!AkDk_XdBkJ9wh5AbPxntsKa1dEyw6w?e=XeZO5l (Probes) and https://1drv.ms/u/s!AkDk_XdBkJ9wh5AaXtnDqwmUTCVo_w?e=vuvNq9 (Gallery) \n",
        "    --- Face List (CSV), https://1drv.ms/x/s!AkDk_XdBkJ9wh5AeUdNM2nZq0m5Ngw?e=dyu7gt (Probes) and https://1drv.ms/x/s!AkDk_XdBkJ9wh5AczwHPRVKrNP9_ig?e=e1eFAX (Gallery)  \n",
        "    --- Ground-truth labeled (CSV), https://1drv.ms/x/s!AkDk_XdBkJ9wh5AdoeaaNepWFYOTJQ?e=ogqZFC \n",
        "    --- Sample output (CSV), https://1drv.ms/u/s!AkDk_XdBkJ9wh5Af-M3YY2MZiaEYJQ?e=nan0q2  \n",
        "\n",
        " \n",
        "---------------------------------------------------------------------------------------------------------------------\n",
        "------\n",
        "-------------------------------------------------------------------------------------------------------------------------------------\n",
        "4 December 2019 (v 0.1.2)\n",
        "Family Face Data, verification pair lists, and protocols, along with face encodings, available on One Drive, https://1drv.ms/u/s!AkDk_XdBkJ9wh5AgFLcx9r_J4ky6Rg?e=fy3lPV\n",
        "\n",
        "Codalabs competition hosted as a data challenge workshop in conjunction with the 2020 IEEE FG Conference:\n",
        "\n",
        "    Kinship Verification (T-1)\n",
        "        https://competitions.codalab.org/competitions/21843\n",
        "\n",
        "    Tri-Subject Verification (T-2)\n",
        "        https://competitions.codalab.org/competitions/22117\n",
        "\n",
        "    Workshop website:\n",
        "         https://web.northeastern.edu/smilelab/rfiw2020/\n",
        "\n",
        "\n",
        "\n",
        "-------------------------------------------------------------------------------------------------------------------------------------\n",
        "2017 (v 0.1.1)                                   \n",
        "Data\n",
        "Family List:\n",
        "     https://1drv.ms/u/s!AkDk_XdBkJ9whk2vCAgT7ly1q85J (csv)                                      \n",
        "     https://1drv.ms/u/s!AkDk_XdBkJ9whk47NQfRPKLudWPt (numbers)\n",
        "                      \n",
        "Family Photo List:\n",
        "     https://1drv.ms/u/s!AkDk_XdBkJ9whk_6ssK-Z7lOqjN0 (csv)                                                 \n",
        "     https://1drv.ms/u/s!AkDk_XdBkJ9whlHmdLKKTM-GqAhH (numbers)\n",
        "                                            \n",
        "Relationship LUT\n",
        "     https://1drv.ms/u/s!AkDk_XdBkJ9whlBp-Ej6Z1QdzNvk (csv)\n",
        "                                                \n",
        "Face Data                                            \n",
        "      https://1drv.ms/u/s!AkDk_XdBkJ9whlQQkd2rOXSREro-\n",
        "        \n",
        "Photo-level Labels,\n",
        "      https://1drv.ms/u/s!AkDk_XdBkJ9whlMaiPhsQuY1P_y8\n",
        "\n",
        "Family-level Labels\n",
        "     https://1drv.ms/u/s!AkDk_XdBkJ9whlLtkhZM8c6B-EZh\n",
        "                                  \n",
        "\n",
        "\n",
        "Task Evaluations\n",
        "\n",
        "Kinship Verification (5-fold, no family overlap)\n",
        "     https://1drv.ms/u/s!AkDk_XdBkJ9whlVoqEj8xx7DJh9z (csv)</a>, <a                                                                \n",
        "     https://1drv.ms/u/s!AkDk_XdBkJ9whldXl5q-zjsqKCXd (mat)\n",
        "                                                \n",
        "Family Classification (5-fold, no member overlap)\n",
        "     https://1drv.ms/u/s!AkDk_XdBkJ9whlYaGENBR-nguc1j\n"
      ]
    },
    {
      "cell_type": "code",
      "metadata": {
        "id": "P8iGTZKwJEHM"
      },
      "source": [
        "! unzip data/train-faces.zip"
      ],
      "execution_count": null,
      "outputs": []
    },
    {
      "cell_type": "code",
      "metadata": {
        "id": "tYBLUvlUBSqi"
      },
      "source": [
        " !unzip data/val-faces.zip "
      ],
      "execution_count": null,
      "outputs": []
    },
    {
      "cell_type": "code",
      "metadata": {
        "id": "WNIB_0D2Myrk"
      },
      "source": [
        "!find ./train-faces -mindepth 1 -type f -name \"*.jpg\" -printf x | wc -c"
      ],
      "execution_count": null,
      "outputs": []
    },
    {
      "cell_type": "code",
      "metadata": {
        "id": "FuJkfAljB_fM"
      },
      "source": [
        "!find ./val-faces -mindepth 1 -type f -name \"*.jpg\" -printf x | wc -c"
      ],
      "execution_count": null,
      "outputs": []
    },
    {
      "cell_type": "code",
      "metadata": {
        "id": "JY9rsPyyXZzz"
      },
      "source": [
        "import os\n",
        "import pandas as pd\n",
        "import numpy as np\n",
        "import matplotlib.pyplot as plt\n",
        "import cv2\n",
        "from sklearn.decomposition import PCA\n",
        "from mpl_toolkits.mplot3d import Axes3D\n",
        "from mpl_toolkits.mplot3d import proj3d\n",
        "from imageio import imread\n",
        "from skimage.transform import resize\n",
        "from scipy.spatial import distance\n",
        "from tqdm import tqdm"
      ],
      "execution_count": null,
      "outputs": []
    },
    {
      "cell_type": "code",
      "metadata": {
        "id": "WB8GhSKlTSxT"
      },
      "source": [
        "train_df = pd.read_csv('./data/train-pairs.csv')\n",
        "val_df = pd.read_csv('./data/val-pairs.csv')"
      ],
      "execution_count": null,
      "outputs": []
    },
    {
      "cell_type": "code",
      "metadata": {
        "id": "PeM8Q8ulXKd2"
      },
      "source": [
        "train_df.head()"
      ],
      "execution_count": null,
      "outputs": []
    },
    {
      "cell_type": "code",
      "metadata": {
        "id": "ytVea2HVXL18"
      },
      "source": [
        "train_df.info()"
      ],
      "execution_count": null,
      "outputs": []
    },
    {
      "cell_type": "code",
      "metadata": {
        "id": "rI_M2IwMCWcq"
      },
      "source": [
        "train_df.describe()"
      ],
      "execution_count": null,
      "outputs": []
    },
    {
      "cell_type": "code",
      "metadata": {
        "id": "jzzAV9RtCYnv"
      },
      "source": [
        "val_df.head()"
      ],
      "execution_count": null,
      "outputs": []
    },
    {
      "cell_type": "code",
      "metadata": {
        "id": "-TfRaiwlChIR"
      },
      "source": [
        "val_df.info()"
      ],
      "execution_count": null,
      "outputs": []
    },
    {
      "cell_type": "code",
      "metadata": {
        "id": "uEl934qpCjX5"
      },
      "source": [
        "val_df.describe()"
      ],
      "execution_count": null,
      "outputs": []
    },
    {
      "cell_type": "code",
      "metadata": {
        "id": "RN7kbbJ9CnmO"
      },
      "source": [
        "print(f\"Train Rows: {train_df.shape[0]}\")\n",
        "print(f\"Validation Rows: {val_df.shape[0]}\")"
      ],
      "execution_count": null,
      "outputs": []
    },
    {
      "cell_type": "code",
      "metadata": {
        "id": "Q99etQVpC5BO"
      },
      "source": [
        ""
      ],
      "execution_count": null,
      "outputs": []
    }
  ]
}